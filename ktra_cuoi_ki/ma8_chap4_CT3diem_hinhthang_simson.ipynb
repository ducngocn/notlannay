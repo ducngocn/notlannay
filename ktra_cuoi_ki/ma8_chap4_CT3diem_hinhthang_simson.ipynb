{
 "cells": [
  {
   "cell_type": "code",
   "execution_count": 170,
   "metadata": {},
   "outputs": [],
   "source": [
    "from sympy import *"
   ]
  },
  {
   "cell_type": "code",
   "execution_count": 171,
   "metadata": {},
   "outputs": [],
   "source": [
    "f = lambda x: x * log(x)"
   ]
  },
  {
   "cell_type": "code",
   "execution_count": 172,
   "metadata": {},
   "outputs": [],
   "source": [
    "import numpy as np"
   ]
  },
  {
   "cell_type": "code",
   "execution_count": 173,
   "metadata": {},
   "outputs": [],
   "source": [
    "X = np.linspace(1, 2, 4)\n",
    "Y = [ f(x) for x in X ]"
   ]
  },
  {
   "cell_type": "code",
   "execution_count": 174,
   "metadata": {},
   "outputs": [],
   "source": [
    "h = (2- 0) / 10"
   ]
  },
  {
   "cell_type": "code",
   "execution_count": 175,
   "metadata": {},
   "outputs": [
    {
     "data": {
      "text/latex": [
       "$\\displaystyle 1.70732086699878$"
      ],
      "text/plain": [
       "1.70732086699878"
      ]
     },
     "execution_count": 175,
     "metadata": {},
     "output_type": "execute_result"
    }
   ],
   "source": [
    "(-Y[2] + 4*Y[1]- 3*Y[0]) / 2 / h"
   ]
  },
  {
   "cell_type": "code",
   "execution_count": 176,
   "metadata": {},
   "outputs": [
    {
     "ename": "IndexError",
     "evalue": "list index out of range",
     "output_type": "error",
     "traceback": [
      "\u001b[1;31m---------------------------------------------------------------------------\u001b[0m",
      "\u001b[1;31mIndexError\u001b[0m                                Traceback (most recent call last)",
      "Cell \u001b[1;32mIn[176], line 1\u001b[0m\n\u001b[1;32m----> 1\u001b[0m [ (\u001b[43mY\u001b[49m\u001b[43m[\u001b[49m\u001b[43mi\u001b[49m\u001b[38;5;241;43m+\u001b[39;49m\u001b[38;5;241;43m1\u001b[39;49m\u001b[43m]\u001b[49m\u001b[38;5;241m-\u001b[39m Y[i\u001b[38;5;241m-\u001b[39m\u001b[38;5;241m1\u001b[39m]) \u001b[38;5;241m/\u001b[39m \u001b[38;5;241m2\u001b[39m \u001b[38;5;241m/\u001b[39m h \u001b[38;5;28;01mfor\u001b[39;00m i \u001b[38;5;129;01min\u001b[39;00m \u001b[38;5;28mrange\u001b[39m(\u001b[38;5;241m1\u001b[39m, \u001b[38;5;241m10\u001b[39m) ]\n",
      "\u001b[1;31mIndexError\u001b[0m: list index out of range"
     ]
    }
   ],
   "source": [
    "[ (Y[i+1]- Y[i-1]) / 2 / h for i in range(1, 10) ]"
   ]
  },
  {
   "cell_type": "code",
   "execution_count": 157,
   "metadata": {},
   "outputs": [
    {
     "data": {
      "text/latex": [
       "$\\displaystyle -1.06899799271712$"
      ],
      "text/plain": [
       "-1.06899799271712"
      ]
     },
     "execution_count": 157,
     "metadata": {},
     "output_type": "execute_result"
    }
   ],
   "source": [
    "(3*Y[10]- 4*Y[9] + Y[8]) / 2 / h"
   ]
  },
  {
   "cell_type": "code",
   "execution_count": 158,
   "metadata": {},
   "outputs": [
    {
     "data": {
      "text/plain": [
       "[1,\n",
       " 1.19546419510366,\n",
       " 1.35959834726278,\n",
       " 1.45161583358583,\n",
       " 1.42755807407983,\n",
       " 1.25338076749345,\n",
       " 0.920273659517131,\n",
       " 0.455344771376687,\n",
       " -0.0793386938800342,\n",
       " -0.601657013112956,\n",
       " -1.03311686799583]"
      ]
     },
     "execution_count": 158,
     "metadata": {},
     "output_type": "execute_result"
    }
   ],
   "source": [
    "from sympy import *\n",
    "x = symbols('x')\n",
    "f(x).diff()\n",
    "[ f(x).diff().subs(x, a) for a in X ]\n",
    "#dao ham cap 1"
   ]
  },
  {
   "cell_type": "code",
   "execution_count": 159,
   "metadata": {},
   "outputs": [
    {
     "data": {
      "text/latex": [
       "$\\displaystyle 0.914120861112255$"
      ],
      "text/plain": [
       "0.914120861112255"
      ]
     },
     "execution_count": 159,
     "metadata": {},
     "output_type": "execute_result"
    }
   ],
   "source": [
    "(Y[2]- 2*Y[1] + Y[0]) / h**2\n"
   ]
  },
  {
   "cell_type": "code",
   "execution_count": 160,
   "metadata": {},
   "outputs": [
    {
     "data": {
      "text/plain": [
       "[0.914120861112255,\n",
       " 0.658837721903893,\n",
       " 0.187322626900410,\n",
       " -0.485540746142560,\n",
       " -1.27156167216630,\n",
       " -2.01429481182486,\n",
       " -2.53068385833404,\n",
       " -2.67789304747679,\n",
       " -2.41317395838206]"
      ]
     },
     "execution_count": 160,
     "metadata": {},
     "output_type": "execute_result"
    }
   ],
   "source": [
    "[ (Y[i+1]- 2*Y[i] + Y[i-1]) / h**2 for i in range(1,\n",
    " 10) ]\n"
   ]
  },
  {
   "cell_type": "code",
   "execution_count": 161,
   "metadata": {},
   "outputs": [
    {
     "data": {
      "text/latex": [
       "$\\displaystyle -2.41317395838206$"
      ],
      "text/plain": [
       "-2.41317395838206"
      ]
     },
     "execution_count": 161,
     "metadata": {},
     "output_type": "execute_result"
    }
   ],
   "source": [
    "(Y[10]- 2*Y[9] + Y[8]) / h**2"
   ]
  },
  {
   "cell_type": "code",
   "execution_count": 162,
   "metadata": {},
   "outputs": [
    {
     "data": {
      "text/plain": [
       "[1,\n",
       " 0.929301913188167,\n",
       " 0.677444043744218,\n",
       " 0.204966423297511,\n",
       " -0.475279547307017,\n",
       " -1.27482037042070,\n",
       " -2.03361508936045,\n",
       " -2.56264238506971,\n",
       " -2.71364778348333,\n",
       " -2.44216166291121,\n",
       " -1.82747322357883]"
      ]
     },
     "execution_count": 162,
     "metadata": {},
     "output_type": "execute_result"
    }
   ],
   "source": [
    "f(x).diff(x, 2)\n",
    "[ f(x).diff(x, 2).subs(x, a) for a in X ]\n",
    "#dao ham cap 2"
   ]
  },
  {
   "cell_type": "code",
   "execution_count": 183,
   "metadata": {},
   "outputs": [
    {
     "data": {
      "text/latex": [
       "$\\displaystyle 0.269754705469122$"
      ],
      "text/plain": [
       "0.269754705469122"
      ]
     },
     "execution_count": 183,
     "metadata": {},
     "output_type": "execute_result"
    }
   ],
   "source": [
    "sum( [(X[i]- X[i-1]) * (Y[i] + Y[i-1]) / 2 for i in range(1, 3)])"
   ]
  },
  {
   "cell_type": "code",
   "execution_count": 182,
   "metadata": {},
   "outputs": [
    {
     "data": {
      "text/latex": [
       "$\\displaystyle 0.265075602891054$"
      ],
      "text/plain": [
       "0.265075602891054"
      ]
     },
     "execution_count": 182,
     "metadata": {},
     "output_type": "execute_result"
    }
   ],
   "source": [
    "sum( [(X[2*i]- X[2*i-2]) * (Y[2*i] + 4*Y[2*i-1] + Y[2*i-2]) / 6\n",
    " for i in range(1,2)] )"
   ]
  },
  {
   "cell_type": "code",
   "execution_count": null,
   "metadata": {},
   "outputs": [],
   "source": []
  }
 ],
 "metadata": {
  "kernelspec": {
   "display_name": "Python 3",
   "language": "python",
   "name": "python3"
  },
  "language_info": {
   "codemirror_mode": {
    "name": "ipython",
    "version": 3
   },
   "file_extension": ".py",
   "mimetype": "text/x-python",
   "name": "python",
   "nbconvert_exporter": "python",
   "pygments_lexer": "ipython3",
   "version": "3.12.5"
  }
 },
 "nbformat": 4,
 "nbformat_minor": 2
}
