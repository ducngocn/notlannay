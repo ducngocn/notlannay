{
 "cells": [
  {
   "cell_type": "code",
   "execution_count": 94,
   "metadata": {},
   "outputs": [],
   "source": [
    "import numpy as np"
   ]
  },
  {
   "cell_type": "code",
   "execution_count": 95,
   "metadata": {},
   "outputs": [],
   "source": [
    "B = np.array( [[0.28, -0.05],\n",
    "               [0.36, -0.26],\n",
    "               ] )"
   ]
  },
  {
   "cell_type": "code",
   "execution_count": 96,
   "metadata": {},
   "outputs": [],
   "source": [
    "g = [-1.7, 3.9]"
   ]
  },
  {
   "cell_type": "code",
   "execution_count": 97,
   "metadata": {},
   "outputs": [
    {
     "data": {
      "text/plain": [
       "np.float64(0.62)"
      ]
     },
     "execution_count": 97,
     "metadata": {},
     "output_type": "execute_result"
    }
   ],
   "source": [
    "q = np.linalg.norm(B, np.inf)\n",
    "q"
   ]
  },
  {
   "cell_type": "code",
   "execution_count": 98,
   "metadata": {},
   "outputs": [],
   "source": [
    "x0 = [-2, 1] #x(k-1)"
   ]
  },
  {
   "cell_type": "code",
   "execution_count": 99,
   "metadata": {},
   "outputs": [
    {
     "name": "stdout",
     "output_type": "stream",
     "text": [
      "[-2.31  2.92] 3.132631578947368\n",
      "[-2.4928  2.3092] 0.9965684210526319\n",
      "[-2.513444  2.4022  ] 0.15173684210526384\n",
      "[-2.52387432  2.37058816] 0.05157721263157904\n"
     ]
    }
   ],
   "source": [
    "for _ in range(4):\n",
    "    x = B.dot(x0) + g # x(k)\n",
    "    ss = q / (1-q) * np.linalg.norm(x- x0, np.inf) # εk\n",
    "    x0 = x\n",
    "    print(x, ss)"
   ]
  },
  {
   "cell_type": "code",
   "execution_count": 101,
   "metadata": {},
   "outputs": [
    {
     "name": "stdout",
     "output_type": "stream",
     "text": [
      "[np.float64(-2.31), 1]\n",
      "[np.float64(-2.31), np.float64(2.8084)]\n",
      "[np.float64(-2.4872199999999998), np.float64(2.8084)]\n",
      "[np.float64(-2.4872199999999998), np.float64(2.2744168)]\n",
      "[np.float64(-2.51014244), np.float64(2.2744168)]\n",
      "[np.float64(-2.51014244), np.float64(2.4050003535999998)]\n",
      "[np.float64(-2.52308990088), np.float64(2.4050003535999998)]\n",
      "[np.float64(-2.52308990088), np.float64(2.3663875437471997)]\n"
     ]
    }
   ],
   "source": [
    "x = [-2, 1]\n",
    "for _ in range(4):\n",
    "    for i in range(2):\n",
    "        x[i] = B[i].dot(x) + g[i] # x(k)\n",
    "        print((x))"
   ]
  },
  {
   "cell_type": "code",
   "execution_count": null,
   "metadata": {},
   "outputs": [],
   "source": []
  }
 ],
 "metadata": {
  "kernelspec": {
   "display_name": "Python 3",
   "language": "python",
   "name": "python3"
  },
  "language_info": {
   "codemirror_mode": {
    "name": "ipython",
    "version": 3
   },
   "file_extension": ".py",
   "mimetype": "text/x-python",
   "name": "python",
   "nbconvert_exporter": "python",
   "pygments_lexer": "ipython3",
   "version": "3.12.5"
  }
 },
 "nbformat": 4,
 "nbformat_minor": 2
}
