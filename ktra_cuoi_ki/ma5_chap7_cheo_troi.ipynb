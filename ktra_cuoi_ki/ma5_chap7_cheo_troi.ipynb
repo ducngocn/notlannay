{
 "cells": [
  {
   "cell_type": "code",
   "execution_count": 30,
   "metadata": {},
   "outputs": [],
   "source": [
    "A = [[2, 0.7], [1.9, -3.1]]\n",
    "b = [-1,2, 2.5]\n"
   ]
  },
  {
   "cell_type": "code",
   "execution_count": 31,
   "metadata": {},
   "outputs": [
    {
     "data": {
      "text/plain": [
       "array([[ 0.        , -0.35      ],\n",
       "       [ 0.61290323,  0.        ]])"
      ]
     },
     "execution_count": 31,
     "metadata": {},
     "output_type": "execute_result"
    }
   ],
   "source": [
    "m = lambda i, j:-A[i][j] / A[i][i] if i != j else 0\n",
    "import numpy as np\n",
    "B = np.array([ [ m(i, j) for j in range(2)] for i in range(2) ])\n",
    "B"
   ]
  },
  {
   "cell_type": "code",
   "execution_count": 32,
   "metadata": {},
   "outputs": [
    {
     "data": {
      "text/plain": [
       "[-0.5, -0.6451612903225806]"
      ]
     },
     "execution_count": 32,
     "metadata": {},
     "output_type": "execute_result"
    }
   ],
   "source": [
    "g = [ b[i] / A[i][i] for i in range(2) ]\n",
    "g\n"
   ]
  },
  {
   "cell_type": "code",
   "execution_count": 33,
   "metadata": {},
   "outputs": [
    {
     "data": {
      "text/plain": [
       "np.float64(0.6129032258064515)"
      ]
     },
     "execution_count": 33,
     "metadata": {},
     "output_type": "execute_result"
    }
   ],
   "source": [
    "q = np.linalg.norm(B, np.inf)\n",
    "q"
   ]
  },
  {
   "cell_type": "code",
   "execution_count": 34,
   "metadata": {},
   "outputs": [
    {
     "name": "stdout",
     "output_type": "stream",
     "text": [
      "[-0.5        -1.87096774] 2.9623655913978477\n",
      "[ 0.15483871 -0.9516129 ] 1.4556451612903214\n",
      "[-0.16693548 -0.55026015] 0.635475199445022\n",
      "[-0.30740895 -0.74747659] 0.31225936524453674\n",
      "[-0.23838319 -0.83357323] 0.1363196798809482\n"
     ]
    }
   ],
   "source": [
    "#cong thuc lap va cong thuc sai so\n",
    "x0 = [-2, 0] # luu x(k-1)\n",
    "for _ in range(5):\n",
    "    x = B.dot(x0) + g # x(k)\n",
    "    ss = q / (1-q) * np.linalg.norm(x- x0, np.inf)\n",
    "    x0 = x # tien them 1 buoc\n",
    "    print(x, ss)"
   ]
  },
  {
   "cell_type": "code",
   "execution_count": null,
   "metadata": {},
   "outputs": [],
   "source": []
  }
 ],
 "metadata": {
  "kernelspec": {
   "display_name": "Python 3",
   "language": "python",
   "name": "python3"
  },
  "language_info": {
   "codemirror_mode": {
    "name": "ipython",
    "version": 3
   },
   "file_extension": ".py",
   "mimetype": "text/x-python",
   "name": "python",
   "nbconvert_exporter": "python",
   "pygments_lexer": "ipython3",
   "version": "3.12.5"
  }
 },
 "nbformat": 4,
 "nbformat_minor": 2
}
