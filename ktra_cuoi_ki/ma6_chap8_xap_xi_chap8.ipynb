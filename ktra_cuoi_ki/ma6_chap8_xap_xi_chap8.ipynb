{
 "cells": [
  {
   "cell_type": "code",
   "execution_count": 53,
   "metadata": {},
   "outputs": [],
   "source": [
    "X = [1 , 1.3, 1.7, 2. ]\n",
    "Y = [3.5, 4. , 4.6, 5.2]"
   ]
  },
  {
   "cell_type": "code",
   "execution_count": 54,
   "metadata": {},
   "outputs": [],
   "source": [
    "from sympy import *"
   ]
  },
  {
   "cell_type": "code",
   "execution_count": 55,
   "metadata": {},
   "outputs": [],
   "source": [
    "x = symbols('x')\n",
    "cs = [1 + 0*x, x, log(x)]"
   ]
  },
  {
   "cell_type": "code",
   "execution_count": 56,
   "metadata": {},
   "outputs": [
    {
     "data": {
      "text/plain": [
       "[[1, 1, 1, 1],\n",
       " [1, 1.30000000000000, 1.70000000000000, 2.00000000000000],\n",
       " [0, 0.262364264467491, 0.530628251062170, 0.693147180559945]]"
      ]
     },
     "execution_count": 56,
     "metadata": {},
     "output_type": "execute_result"
    }
   ],
   "source": [
    "V = [ [cs_i.subs(x, X_k) for X_k in X] for cs_i in cs ]\n",
    "V"
   ]
  },
  {
   "cell_type": "code",
   "execution_count": 57,
   "metadata": {},
   "outputs": [
    {
     "name": "stdout",
     "output_type": "stream",
     "text": [
      "[[4, 6.00000000000000, 1.48613969608961], [6.00000000000000, 9.58000000000000, 2.62943593173332], [1.48613969608961, 2.62943593173332, 0.830854362013067]]\n",
      "[17.3000000000000, 26.9200000000000, 7.09471235166766]\n"
     ]
    }
   ],
   "source": [
    "import numpy as np\n",
    "A = [ [np.dot(V_i, V_j) for V_j in V] for V_i in V ]\n",
    "b = [np.dot(Y, V_i) for V_i in V]\n",
    "print (A)\n",
    "print (b)"
   ]
  },
  {
   "cell_type": "code",
   "execution_count": 58,
   "metadata": {},
   "outputs": [
    {
     "data": {
      "text/plain": [
       "array([ 1.24242748,  2.26929847, -0.86499322])"
      ]
     },
     "execution_count": 58,
     "metadata": {},
     "output_type": "execute_result"
    }
   ],
   "source": [
    "hs = np.linalg.solve(\n",
    "    np.array(A).astype(float),\n",
    "    np.array(b).astype(float) )\n",
    "hs #ket qua a,b,c"
   ]
  },
  {
   "cell_type": "code",
   "execution_count": 59,
   "metadata": {},
   "outputs": [],
   "source": [
    "P = hs.dot(cs)"
   ]
  },
  {
   "cell_type": "code",
   "execution_count": 60,
   "metadata": {},
   "outputs": [
    {
     "data": {
      "text/plain": [
       "[3.51172595612804, 3.96557218651278, 4.64124504437673, 5.18145681298245]"
      ]
     },
     "execution_count": 60,
     "metadata": {},
     "output_type": "execute_result"
    }
   ],
   "source": [
    "[P.subs(x, X_k) for X_k in X]\n",
    "\n",
    "#P\n"
   ]
  },
  {
   "cell_type": "code",
   "execution_count": 61,
   "metadata": {},
   "outputs": [
    {
     "data": {
      "text/plain": [
       "[-0.0117259561280374,\n",
       " 0.0344278134872158,\n",
       " -0.0412450443767272,\n",
       " 0.0185431870175456]"
      ]
     },
     "execution_count": 61,
     "metadata": {},
     "output_type": "execute_result"
    }
   ],
   "source": [
    "errors = [Y_k- P.subs(x, X_k) for (X_k, Y_k) in zip(X, Y)]\n",
    "errors\n",
    "#t - P"
   ]
  },
  {
   "cell_type": "code",
   "execution_count": 62,
   "metadata": {},
   "outputs": [
    {
     "data": {
      "text/plain": [
       "np.float64(0.058032541380100194)"
      ]
     },
     "execution_count": 62,
     "metadata": {},
     "output_type": "execute_result"
    }
   ],
   "source": [
    "np.linalg.norm(np.array(errors).astype(float))"
   ]
  },
  {
   "cell_type": "code",
   "execution_count": null,
   "metadata": {},
   "outputs": [],
   "source": []
  }
 ],
 "metadata": {
  "kernelspec": {
   "display_name": "Python 3",
   "language": "python",
   "name": "python3"
  },
  "language_info": {
   "codemirror_mode": {
    "name": "ipython",
    "version": 3
   },
   "file_extension": ".py",
   "mimetype": "text/x-python",
   "name": "python",
   "nbconvert_exporter": "python",
   "pygments_lexer": "ipython3",
   "version": "3.12.5"
  }
 },
 "nbformat": 4,
 "nbformat_minor": 2
}
