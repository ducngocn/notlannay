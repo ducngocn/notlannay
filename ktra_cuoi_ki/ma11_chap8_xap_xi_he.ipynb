{
 "cells": [
  {
   "cell_type": "code",
   "execution_count": 2,
   "metadata": {},
   "outputs": [],
   "source": [
    "X = [-0.7, 1.7,-4.9, 3.1,-1.3]\n",
    "Y = [-2.9,-1.1,-2.9, 1.5, 0.8]\n",
    "Z = [7.1, 5.8,-3.1,-1,-8.7]"
   ]
  },
  {
   "cell_type": "code",
   "execution_count": 3,
   "metadata": {},
   "outputs": [],
   "source": [
    "from sympy import *"
   ]
  },
  {
   "cell_type": "code",
   "execution_count": 5,
   "metadata": {},
   "outputs": [],
   "source": [
    "x, y = symbols('x y')\n",
    "cs = [1 + 0*x, x, y]"
   ]
  },
  {
   "cell_type": "code",
   "execution_count": 16,
   "metadata": {},
   "outputs": [
    {
     "data": {
      "text/plain": [
       "[[1, 1, 1, 1, 1],\n",
       " [-0.700000000000000,\n",
       "  1.70000000000000,\n",
       "  -4.90000000000000,\n",
       "  3.10000000000000,\n",
       "  -1.30000000000000],\n",
       " [-2.90000000000000,\n",
       "  -1.10000000000000,\n",
       "  -2.90000000000000,\n",
       "  1.50000000000000,\n",
       "  0.800000000000000]]"
      ]
     },
     "execution_count": 16,
     "metadata": {},
     "output_type": "execute_result"
    }
   ],
   "source": [
    "V = [ [cs_i.subs({x: X_k, y: Y_k}) for (X_k, Y_k) in zip(X, Y)] for\n",
    "cs_i in cs ]\n",
    "V"
   ]
  },
  {
   "cell_type": "code",
   "execution_count": 7,
   "metadata": {},
   "outputs": [],
   "source": [
    "import numpy as np"
   ]
  },
  {
   "cell_type": "code",
   "execution_count": 17,
   "metadata": {},
   "outputs": [
    {
     "data": {
      "text/plain": [
       "[[5, -2.10000000000000, -4.60000000000000],\n",
       " [-2.10000000000000, 38.6900000000000, 17.9800000000000],\n",
       " [-4.60000000000000, 17.9800000000000, 20.9200000000000]]"
      ]
     },
     "execution_count": 17,
     "metadata": {},
     "output_type": "execute_result"
    }
   ],
   "source": [
    "A = [ [np.dot(V_i, V_j) for V_j in V] for V_i in V ]\n",
    "A"
   ]
  },
  {
   "cell_type": "code",
   "execution_count": 18,
   "metadata": {},
   "outputs": [
    {
     "data": {
      "text/plain": [
       "[0.0999999999999996, 28.2900000000000, -26.4400000000000]"
      ]
     },
     "execution_count": 18,
     "metadata": {},
     "output_type": "execute_result"
    }
   ],
   "source": [
    "b = [np.dot(Z, V_i) for V_i in V]\n",
    "b"
   ]
  },
  {
   "cell_type": "code",
   "execution_count": 19,
   "metadata": {},
   "outputs": [
    {
     "data": {
      "text/plain": [
       "array([-2.54721599,  2.3985894 , -3.88546037])"
      ]
     },
     "execution_count": 19,
     "metadata": {},
     "output_type": "execute_result"
    }
   ],
   "source": [
    "hs = np.linalg.solve(\n",
    "    np.array(A, dtype=float),\n",
    "    np.array(b, dtype=float) )\n",
    "hs\n"
   ]
  },
  {
   "cell_type": "code",
   "execution_count": 12,
   "metadata": {},
   "outputs": [],
   "source": [
    "P = hs.dot(cs)"
   ]
  },
  {
   "cell_type": "code",
   "execution_count": 13,
   "metadata": {},
   "outputs": [
    {
     "data": {
      "text/plain": [
       "[7.04160650623886,\n",
       " 5.80439239681887,\n",
       " -3.03246897710133,\n",
       " -0.939779411764706,\n",
       " -8.77375051419169]"
      ]
     },
     "execution_count": 13,
     "metadata": {},
     "output_type": "execute_result"
    }
   ],
   "source": [
    "[P.subs({x: X_k, y: Y_k}) for (X_k, Y_k) in zip(X, Y)]"
   ]
  },
  {
   "cell_type": "code",
   "execution_count": 20,
   "metadata": {},
   "outputs": [
    {
     "data": {
      "text/plain": [
       "[0.0583934937611437,\n",
       " -0.00439239681886594,\n",
       " -0.0675310228986672,\n",
       " -0.0602205882352944,\n",
       " 0.0737505141916905]"
      ]
     },
     "execution_count": 20,
     "metadata": {},
     "output_type": "execute_result"
    }
   ],
   "source": [
    "errors = [Z_k- P.subs({x: X_k, y: Y_k}) for (X_k, Y_k, Z_k) in zip\n",
    " (X, Y, Z)]\n",
    "errors"
   ]
  },
  {
   "cell_type": "code",
   "execution_count": 15,
   "metadata": {},
   "outputs": [
    {
     "data": {
      "text/plain": [
       "np.float64(0.13059552024526358)"
      ]
     },
     "execution_count": 15,
     "metadata": {},
     "output_type": "execute_result"
    }
   ],
   "source": [
    "np.linalg.norm( np.array(errors, dtype=float) )"
   ]
  },
  {
   "cell_type": "code",
   "execution_count": null,
   "metadata": {},
   "outputs": [],
   "source": []
  }
 ],
 "metadata": {
  "kernelspec": {
   "display_name": "Python 3",
   "language": "python",
   "name": "python3"
  },
  "language_info": {
   "codemirror_mode": {
    "name": "ipython",
    "version": 3
   },
   "file_extension": ".py",
   "mimetype": "text/x-python",
   "name": "python",
   "nbconvert_exporter": "python",
   "pygments_lexer": "ipython3",
   "version": "3.12.5"
  }
 },
 "nbformat": 4,
 "nbformat_minor": 2
}
