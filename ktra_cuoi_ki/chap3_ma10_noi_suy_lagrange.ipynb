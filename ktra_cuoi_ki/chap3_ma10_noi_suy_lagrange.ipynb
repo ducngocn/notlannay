{
 "cells": [
  {
   "cell_type": "code",
   "execution_count": 13,
   "metadata": {},
   "outputs": [],
   "source": [
    "X = [-3, -1, 1, 3]\n",
    "Y = [-16, 2, 4, -10]"
   ]
  },
  {
   "cell_type": "code",
   "execution_count": 14,
   "metadata": {},
   "outputs": [],
   "source": [
    "def L(i, x):\n",
    "    prod = 1\n",
    "    for j in range(4):\n",
    "        if j != i:\n",
    "            prod *= (x- X[j]) / (X[i]- X[j])\n",
    "    return prod"
   ]
  },
  {
   "cell_type": "code",
   "execution_count": 15,
   "metadata": {},
   "outputs": [
    {
     "data": {
      "text/latex": [
       "$\\displaystyle - \\frac{x^{3}}{48} + \\frac{x^{2}}{16} + \\frac{x}{48} - \\frac{1}{16}$"
      ],
      "text/plain": [
       "-x**3/48 + x**2/16 + x/48 - 1/16"
      ]
     },
     "execution_count": 15,
     "metadata": {},
     "output_type": "execute_result"
    }
   ],
   "source": [
    "from sympy import *\n",
    "x = symbols('x')\n",
    "L(0, x)\n",
    "L(0, x).expand()"
   ]
  },
  {
   "cell_type": "code",
   "execution_count": 16,
   "metadata": {},
   "outputs": [
    {
     "name": "stdout",
     "output_type": "stream",
     "text": [
      "-x**3/48 + x**2/16 + x/48 - 1/16\n",
      "x**3/16 - x**2/16 - 9*x/16 + 9/16\n",
      "-x**3/16 - x**2/16 + 9*x/16 + 9/16\n",
      "x**3/48 + x**2/16 - x/48 - 1/16\n"
     ]
    }
   ],
   "source": [
    "for i in range(4):\n",
    "    print (L(i, x).expand())"
   ]
  },
  {
   "cell_type": "code",
   "execution_count": 17,
   "metadata": {},
   "outputs": [],
   "source": [
    "P = 0\n",
    "for i in range(4):\n",
    "    P += Y[i] * L(i, x)"
   ]
  },
  {
   "cell_type": "code",
   "execution_count": 18,
   "metadata": {},
   "outputs": [
    {
     "data": {
      "text/latex": [
       "$\\displaystyle - 2 x^{2} + x + 5$"
      ],
      "text/plain": [
       "-2*x**2 + x + 5"
      ]
     },
     "execution_count": 18,
     "metadata": {},
     "output_type": "execute_result"
    }
   ],
   "source": [
    "P.expand()"
   ]
  },
  {
   "cell_type": "code",
   "execution_count": null,
   "metadata": {},
   "outputs": [],
   "source": []
  }
 ],
 "metadata": {
  "kernelspec": {
   "display_name": "Python 3",
   "language": "python",
   "name": "python3"
  },
  "language_info": {
   "codemirror_mode": {
    "name": "ipython",
    "version": 3
   },
   "file_extension": ".py",
   "mimetype": "text/x-python",
   "name": "python",
   "nbconvert_exporter": "python",
   "pygments_lexer": "ipython3",
   "version": "3.12.5"
  }
 },
 "nbformat": 4,
 "nbformat_minor": 2
}
