{
 "cells": [
  {
   "cell_type": "code",
   "execution_count": 1,
   "metadata": {},
   "outputs": [],
   "source": [
    "# VD2, 3: import numpy as np\n",
    "f = lambda x, y: y- x # VD2: f = lambda x, y: np.array([x * y[0]- y[1],y[0] + y[1]- 1])\n",
    "\n"
   ]
  },
  {
   "cell_type": "code",
   "execution_count": 2,
   "metadata": {},
   "outputs": [],
   "source": [
    "X = [0, 0.2, 0.3, 0.5] # VD2: X = [1, 1.1, 1.3, 1.5]\n",
    "                         # VD3: X = [-1,-0.8,-0.6,-0.5]"
   ]
  },
  {
   "cell_type": "code",
   "execution_count": 3,
   "metadata": {},
   "outputs": [],
   "source": [
    "y = 2    # VD2: y = [-1, 2]\n",
    "            # VD3: y = [1, 0,-2]"
   ]
  },
  {
   "cell_type": "code",
   "execution_count": 4,
   "metadata": {},
   "outputs": [
    {
     "name": "stdout",
     "output_type": "stream",
     "text": [
      "2.4214\n",
      "2.6498556558333335\n",
      "3.1487136980348334\n"
     ]
    }
   ],
   "source": [
    "for n in range(len(X)- 1):\n",
    "    h = X[n+1]- X[n]\n",
    "    k1 = h * f(X[n], y)\n",
    "    k2 = h * f(X[n] + h/2, y + k1/2)\n",
    "    k3 = h * f(X[n] + h/2, y + k2/2)\n",
    "    k4 = h * f(X[n] + h , y + k3)\n",
    "    y = y + (k1 + 2*k2 + 2*k3 + k4)/6\n",
    "    print(y)"
   ]
  },
  {
   "cell_type": "code",
   "execution_count": null,
   "metadata": {},
   "outputs": [],
   "source": []
  }
 ],
 "metadata": {
  "kernelspec": {
   "display_name": "Python 3",
   "language": "python",
   "name": "python3"
  },
  "language_info": {
   "codemirror_mode": {
    "name": "ipython",
    "version": 3
   },
   "file_extension": ".py",
   "mimetype": "text/x-python",
   "name": "python",
   "nbconvert_exporter": "python",
   "pygments_lexer": "ipython3",
   "version": "3.12.5"
  }
 },
 "nbformat": 4,
 "nbformat_minor": 2
}
